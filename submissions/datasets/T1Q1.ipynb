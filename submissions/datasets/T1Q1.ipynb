{
 "cells": [
  {
   "cell_type": "markdown",
   "id": "d5c9b5ac-2cf9-4df2-85bd-4579cdeaeefc",
   "metadata": {},
   "source": [
    "## Question 1: Car Matrix Generation\n",
    "Under the function named `generate_car_matrix` write a logic that takes the `dataset-1.csv` as a DataFrame. Return a new DataFrame that follows the following rules:\n",
    "- values from `id_2` as columns\n",
    "- values from `id_1` as index\n",
    "- dataframe should have values from `car` column\n",
    "- diagonal values should be 0.\n",
    "\n",
    "Sample result dataframe:\\\n",
    " ![Task 1 Question 1](readme_images/task1-q1.png)"
   ]
  },
  {
   "cell_type": "code",
   "execution_count": 8,
   "id": "6b48c145-df49-448e-a1ee-415a4cb5b1e5",
   "metadata": {},
   "outputs": [],
   "source": [
    "import pandas as pd\n",
    "\n",
    "def generate_car_matrix(df)->pd.DataFrame:\n",
    "    \"\"\"\n",
    "    Creates a DataFrame  for id combinations.\n",
    "\n",
    "    Args:\n",
    "        df (pandas.DataFrame)\n",
    "\n",
    "    Returns:\n",
    "        pandas.DataFrame: Matrix generated with 'car' values, \n",
    "                          where 'id_1' and 'id_2' are used as indices and columns respectively.\n",
    "    \"\"\"\n",
    "    \n",
    "    df = pd.read_csv(f\"dataset-1.csv\")\n",
    "\n",
    "    \n",
    "\n",
    "    return df"
   ]
  },
  {
   "cell_type": "code",
   "execution_count": null,
   "id": "e97298c9-0ade-4b85-9a1a-ca633496291e",
   "metadata": {},
   "outputs": [],
   "source": []
  }
 ],
 "metadata": {
  "kernelspec": {
   "display_name": "Python 3 (ipykernel)",
   "language": "python",
   "name": "python3"
  },
  "language_info": {
   "codemirror_mode": {
    "name": "ipython",
    "version": 3
   },
   "file_extension": ".py",
   "mimetype": "text/x-python",
   "name": "python",
   "nbconvert_exporter": "python",
   "pygments_lexer": "ipython3",
   "version": "3.11.2"
  }
 },
 "nbformat": 4,
 "nbformat_minor": 5
}
